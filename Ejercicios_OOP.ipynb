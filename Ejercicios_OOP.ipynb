{
 "cells": [
  {
   "cell_type": "code",
   "execution_count": 3,
   "id": "bd3869f9-8d8b-4fed-9e8c-edde7814b1c8",
   "metadata": {},
   "outputs": [],
   "source": [
    "class Person:\n",
    "    def __init__(self, name, firsf_surname, second_last_name):\n",
    "        self.name = name\n",
    "        self.firsf_surname = firsf_surname\n",
    "        self.second_last_name = second_last_name\n",
    "\n",
    "    #def say_full_name(self):\n",
    "    #    print(f'{self.name.capitalize()} {self.firsf_surname.capitalize()} {self.second_last_name.capitalize()}')   \n",
    "\n",
    "    def __str__(self):\n",
    "        return f'{self.name.capitalize()} {self.firsf_surname.capitalize()} {self.second_last_name.capitalize()}' \n"
   ]
  },
  {
   "cell_type": "code",
   "execution_count": 4,
   "id": "daa79d23-6072-48f5-86cd-02d9edd9f1fd",
   "metadata": {},
   "outputs": [
    {
     "name": "stdout",
     "output_type": "stream",
     "text": [
      "Rosario Reyes Martinez\n"
     ]
    }
   ],
   "source": [
    "person = Person(\"rOsario\", \"REYES\", \"martineZ\")\n",
    "#person.say_full_name()\n",
    "print(person)"
   ]
  },
  {
   "cell_type": "code",
   "execution_count": 5,
   "id": "571dd597-f6a4-4fb5-84bc-46f26dfcaa78",
   "metadata": {},
   "outputs": [],
   "source": [
    "import math \n",
    "class Point2D:\n",
    "    def __init__(self, x,y):\n",
    "        self.x = x\n",
    "        self.y = y\n",
    "\n",
    "    def calcula_distancia(self, other):\n",
    "        d = math.sqrt(((self.x - other.x)** 2) + ((self.y - other.y)** 2))\n",
    "        print(d)\n"
   ]
  },
  {
   "cell_type": "code",
   "execution_count": 6,
   "id": "6ccd0ba5-3c86-45af-91b6-97ae3b31d752",
   "metadata": {},
   "outputs": [
    {
     "name": "stdout",
     "output_type": "stream",
     "text": [
      "6.082762530298219\n",
      "None\n"
     ]
    }
   ],
   "source": [
    "punto1 = Point2D(3,4)\n",
    "punto2 = Point2D(9,5)\n",
    "print(punto1.calcula_distancia(punto2))"
   ]
  },
  {
   "cell_type": "code",
   "execution_count": null,
   "id": "0d7782a3-bc6c-4538-a102-15163180b8f0",
   "metadata": {},
   "outputs": [],
   "source": []
  }
 ],
 "metadata": {
  "kernelspec": {
   "display_name": "Python 3 (ipykernel)",
   "language": "python",
   "name": "python3"
  },
  "language_info": {
   "codemirror_mode": {
    "name": "ipython",
    "version": 3
   },
   "file_extension": ".py",
   "mimetype": "text/x-python",
   "name": "python",
   "nbconvert_exporter": "python",
   "pygments_lexer": "ipython3",
   "version": "3.12.5"
  }
 },
 "nbformat": 4,
 "nbformat_minor": 5
}
