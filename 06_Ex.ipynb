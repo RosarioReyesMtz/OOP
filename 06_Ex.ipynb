{
 "cells": [
  {
   "cell_type": "markdown",
   "metadata": {},
   "source": [
    "<img src=\"./Diagramas_clases/06_Employee.jpeg\" alt=\"Ex 2\" width=\"200\">"
   ]
  },
  {
   "cell_type": "markdown",
   "metadata": {},
   "source": [
    "### Class Employe\n",
    "- **int id**: Atributo de instancia. Indentifica de manera unica a cada instancia de 'Employe!:\n",
    "- **int new_id**: Atributo de clase. Identificador unico\n",
    "- **void say_id()**: Imprime 'Mi id es: {self.id}'\n",
    "\n",
    "### Class User\n",
    "- **str role**: Atributo de instancia. Funcion de instancia de 'user' p.ej.\n",
    "    - Administrador\n",
    "    - Manager\n",
    "    - Usuario\n",
    "- **str username**: Atributo de instancia. Nombre del usuario\n",
    "- **vois say_user_info()**:Imprime 'Mi nombre es {self.username} y. soy {self.role}.'.\n",
    "\n",
    "### Class Admin \n",
    "- **void say_id()**: Imprime\n",
    "   - 'Mi id es: {self.id}'\n",
    "   - 'Soy un administrador'\n",
    "\n",
    "### Clase Manager\n",
    "- **void say_id()**: Imprime:\n",
    "    - 'Mi id es: {self.id}.\n",
    "    - 'Soy un Administrador \\\\(0-0)/'.    \n",
    "    - 'Y estoy al mando'"
   ]
  },
  {
   "cell_type": "code",
   "execution_count": null,
   "metadata": {},
   "outputs": [],
   "source": [
    "class Employee:\n",
    "    new_id = 1\n",
    "\n",
    "    def __init__(self, name):\n",
    "        self.id = Employee.new_id\n",
    "        Employee.new_id += 1\n",
    "        \n",
    "\n",
    "    def say_id(self):\n",
    "        print(f'Mi id es: {self.id}')"
   ]
  }
 ],
 "metadata": {
  "kernelspec": {
   "display_name": "Python 3",
   "language": "python",
   "name": "python3"
  },
  "language_info": {
   "codemirror_mode": {
    "name": "ipython",
    "version": 3
   },
   "file_extension": ".py",
   "mimetype": "text/x-python",
   "name": "python",
   "nbconvert_exporter": "python",
   "pygments_lexer": "ipython3",
   "version": "3.12.5"
  }
 },
 "nbformat": 4,
 "nbformat_minor": 2
}
