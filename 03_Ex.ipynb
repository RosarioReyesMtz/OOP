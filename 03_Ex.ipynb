{
 "cells": [
  {
   "cell_type": "markdown",
   "metadata": {},
   "source": [
    "<img src=\"./Diagramas_clases/03_herencia.png\" alt=\"Ex 2\" width=\"200\">"
   ]
  },
  {
   "cell_type": "code",
   "execution_count": 14,
   "metadata": {},
   "outputs": [],
   "source": [
    "class Employee:\n",
    "    new_id = 1\n",
    "\n",
    "    def __init__(self):\n",
    "        self.id = Employee.new_id\n",
    "        Employee.new_id += 1\n",
    "        \n",
    "\n",
    "    def say_id(self):\n",
    "        print(f'Mi id es: {self.id}')\n",
    "\n",
    "class Admin(Employee):\n",
    "    def say_id(self):\n",
    "        super().say_id()\n",
    "        print(f'Soy un administrador')\n",
    "\n",
    "class Manager(Admin):\n",
    "    def say_id(self):\n",
    "        super().say_id()\n",
    "        print(f'Estoy a cargo')"
   ]
  },
  {
   "cell_type": "code",
   "execution_count": 15,
   "metadata": {},
   "outputs": [
    {
     "name": "stdout",
     "output_type": "stream",
     "text": [
      "Mi id es: 1\n",
      "Mi id es: 2\n",
      "Soy un administrador\n",
      "Mi id es: 3\n",
      "Soy un administrador\n",
      "Estoy a cargo\n"
     ]
    }
   ],
   "source": [
    "Juan = Employee()\n",
    "Juan.say_id()\n",
    "\n",
    "Pedro = Admin()\n",
    "Pedro.say_id()\n",
    "\n",
    "Martin = Manager()\n",
    "Martin.say_id()\n"
   ]
  },
  {
   "cell_type": "code",
   "execution_count": 46,
   "metadata": {},
   "outputs": [],
   "source": [
    "class Animal: # Clase padre\n",
    "    def __init__(self, name):\n",
    "       self.name = name\n",
    "\n",
    "    def say_name(self):\n",
    "        print(f'Mi nombre es {self.name}')\n",
    "       \n",
    "    def eat(self):\n",
    "        print(f'Yummy Yummy!, estoy comiendo')\n",
    "\n",
    "class Cat(Animal): # Clase hija\n",
    "    def meow(self):\n",
    "        print('Soy un gato y hago meow!')\n",
    "\n",
    "    def make_noise(self):\n",
    "        print(f'hago grrr!')\n",
    "\n",
    "class Dog(Animal): # Clase hija\n",
    "    def bark(self):\n",
    "        print('Soy un perro y hago gua gua!')\n",
    "    \n",
    "    def make_noise(self):\n",
    "        print(f' {self.name} hago prrr!')"
   ]
  },
  {
   "cell_type": "code",
   "execution_count": 42,
   "metadata": {},
   "outputs": [
    {
     "name": "stdout",
     "output_type": "stream",
     "text": [
      "Mi nombre es Solo Vino\n",
      "Yummy Yummy!, estoy comiendo\n",
      "Soy un perro y hago gua gua!\n",
      "hago prrr!\n",
      "Mi nombre es Benito\n",
      "Soy un gato y hago meow!\n",
      "Yummy Yummy!, estoy comiendo\n",
      "hago grrr!\n"
     ]
    }
   ],
   "source": [
    "Solo_Vino = Dog(\"Solo Vino\")\n",
    "Solo_Vino.say_name()\n",
    "Solo_Vino.eat()\n",
    "Solo_Vino.bark()\n",
    "Solo_Vino.make_noise()\n",
    "\n",
    "Benito = Cat(\"Benito\")\n",
    "Benito.say_name()\n",
    "Benito.meow()\n",
    "Benito.eat()\n",
    "Benito.make_noise()"
   ]
  },
  {
   "cell_type": "code",
   "execution_count": null,
   "metadata": {},
   "outputs": [],
   "source": []
  }
 ],
 "metadata": {
  "kernelspec": {
   "display_name": "Python 3",
   "language": "python",
   "name": "python3"
  },
  "language_info": {
   "codemirror_mode": {
    "name": "ipython",
    "version": 3
   },
   "file_extension": ".py",
   "mimetype": "text/x-python",
   "name": "python",
   "nbconvert_exporter": "python",
   "pygments_lexer": "ipython3",
   "version": "3.12.0"
  }
 },
 "nbformat": 4,
 "nbformat_minor": 2
}
