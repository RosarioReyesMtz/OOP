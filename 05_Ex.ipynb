{
 "cells": [
  {
   "cell_type": "markdown",
   "metadata": {},
   "source": [
    "<img src=\"./Diagramas_clases/05_herencia_multiple.png\" alt=\"Ex 2\" width=\"200\">"
   ]
  },
  {
   "cell_type": "markdown",
   "metadata": {},
   "source": [
    "## Clase animal\n",
    "\n",
    "- **str name**: Atributo de instancia. Nombre del animal.\n",
    "- **void eat**: Imprime el texto'Yummy Yummy estoy comiendo.'.\n",
    "- **void make_noise()**: Imprime '{self.name} hace Grrr!..'"
   ]
  },
  {
   "cell_type": "code",
   "execution_count": 10,
   "metadata": {},
   "outputs": [],
   "source": [
    "class Animal:\n",
    "    def __init__(self, name):\n",
    "        self.name = name\n",
    "\n",
    "    def eat(seft):\n",
    "        print('Yummy Yummy estoy comiendo.')\n",
    "\n",
    "    def make_noise(setf):\n",
    "        print(f'{setf.name} hace Grrr!.')\n",
    "\n",
    "#Traduccion make noise - hacer ruido"
   ]
  },
  {
   "cell_type": "code",
   "execution_count": 7,
   "metadata": {},
   "outputs": [
    {
     "name": "stdout",
     "output_type": "stream",
     "text": [
      "Yummy Yummy estoy comiendo.\n",
      "Negro hace Grrr!.\n"
     ]
    }
   ],
   "source": [
    "Negro = Animal('Negro')\n",
    "Negro.eat()\n",
    "Negro.make_noise()"
   ]
  },
  {
   "cell_type": "markdown",
   "metadata": {},
   "source": [
    "## Clase cat\n",
    "- **void make_noise()**: Imprime '{self.name} hace rrrr!..'\n",
    "- **void meow()**: Imprime 'Soy un gato y hago Meow!..'"
   ]
  },
  {
   "cell_type": "code",
   "execution_count": 4,
   "metadata": {},
   "outputs": [],
   "source": [
    "class Cat(Animal):\n",
    "    def make_noise(setf):\n",
    "        print(f'{setf.name} hace rrrr!.')\n",
    "\n",
    "    def meow(setf):\n",
    "        print('Soy un gato y hago Meow!.')"
   ]
  },
  {
   "cell_type": "code",
   "execution_count": 6,
   "metadata": {},
   "outputs": [
    {
     "name": "stdout",
     "output_type": "stream",
     "text": [
      "Michu hace rrrr!.\n",
      "Soy un gato y hago Meow!.\n",
      "Yummy Yummy estoy comiendo.\n"
     ]
    }
   ],
   "source": [
    "Michu = Cat('Michu')\n",
    "Michu.make_noise()\n",
    "Michu.meow()\n",
    "Michu.eat()"
   ]
  },
  {
   "cell_type": "markdown",
   "metadata": {},
   "source": [
    "## Clase Dog\n",
    "- **void make_noise()**: Imprime '{self.name} mueve la cola!..'\n",
    "- **void meow()**: Imprime 'Soy un perro y hago woof woof!'."
   ]
  },
  {
   "cell_type": "code",
   "execution_count": 12,
   "metadata": {},
   "outputs": [],
   "source": [
    "class Dog(Animal):\n",
    "    def action(self):\n",
    "        print(f'{self.name} mueve la cola!..')\n",
    "\n",
    "    def bark(self):\n",
    "        print('Soy un perro y hago woof woof!')\n",
    "        "
   ]
  },
  {
   "cell_type": "code",
   "execution_count": 13,
   "metadata": {},
   "outputs": [
    {
     "name": "stdout",
     "output_type": "stream",
     "text": [
      "Firu mueve la cola!..\n",
      "Soy un perro y hago woof woof!\n",
      "Yummy Yummy estoy comiendo.\n",
      "Firu hace Grrr!.\n"
     ]
    }
   ],
   "source": [
    "Firu = Dog('Firu')\n",
    "Firu.action()\n",
    "Firu.bark()\n",
    "Firu.eat()\n",
    "Firu.make_noise()"
   ]
  },
  {
   "cell_type": "markdown",
   "metadata": {},
   "source": [
    "## Clase Wotf\n",
    "- **void action()**: Imprime f'{self.name} muerde y duele OUCH!'"
   ]
  },
  {
   "cell_type": "code",
   "execution_count": null,
   "metadata": {},
   "outputs": [],
   "source": [
    "class Wolf(Animal):\n",
    "    def action(self):\n",
    "        print(f'{self.name} muerde y duele OUCH!')"
   ]
  },
  {
   "cell_type": "code",
   "execution_count": 16,
   "metadata": {},
   "outputs": [
    {
     "name": "stdout",
     "output_type": "stream",
     "text": [
      "Sparco muerde y duele OUCH!\n",
      "Yummy Yummy estoy comiendo.\n",
      "Sparco hace Grrr!.\n"
     ]
    }
   ],
   "source": [
    "Sparco = Wolf('Sparco')\n",
    "Sparco.action()\n",
    "Sparco.eat()\n",
    "Sparco.make_noise()"
   ]
  },
  {
   "cell_type": "markdown",
   "metadata": {},
   "source": [
    "## Class Hybrid\n",
    "\n",
    "**void action()**: Imprime:\n",
    "- '{self.name} mueve la cola!'\n",
    "- '{self.name} muerde y duele ouch!'"
   ]
  },
  {
   "cell_type": "code",
   "execution_count": 18,
   "metadata": {},
   "outputs": [],
   "source": [
    "class Hybrid(Dog, Wolf):\n",
    "    def action(self):\n",
    "        super().action()\n",
    "        Wolf.action(self)"
   ]
  },
  {
   "cell_type": "code",
   "execution_count": 20,
   "metadata": {},
   "outputs": [
    {
     "name": "stdout",
     "output_type": "stream",
     "text": [
      "Princesa mueve la cola!..\n",
      "Princesa muerde y duele OUCH!\n",
      "Soy un perro y hago woof woof!\n",
      "Yummy Yummy estoy comiendo.\n",
      "Princesa hace Grrr!.\n"
     ]
    }
   ],
   "source": [
    "Princesa = Hybrid('Princesa')\n",
    "Princesa.action()\n",
    "Princesa.bark()\n",
    "Princesa.eat()\n",
    "Princesa.make_noise()"
   ]
  },
  {
   "cell_type": "code",
   "execution_count": null,
   "metadata": {},
   "outputs": [],
   "source": []
  }
 ],
 "metadata": {
  "kernelspec": {
   "display_name": "Python 3",
   "language": "python",
   "name": "python3"
  },
  "language_info": {
   "codemirror_mode": {
    "name": "ipython",
    "version": 3
   },
   "file_extension": ".py",
   "mimetype": "text/x-python",
   "name": "python",
   "nbconvert_exporter": "python",
   "pygments_lexer": "ipython3",
   "version": "3.12.5"
  }
 },
 "nbformat": 4,
 "nbformat_minor": 2
}
