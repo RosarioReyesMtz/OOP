{
 "cells": [
  {
   "cell_type": "markdown",
   "metadata": {},
   "source": [
    "<img src=\"./Diagramas_clases/02_herencia.png\" alt=\"Ex 2\" width=\"200\">"
   ]
  },
  {
   "cell_type": "code",
   "execution_count": 7,
   "metadata": {},
   "outputs": [],
   "source": [
    "class Animal: # Clase padre\n",
    "    def __init__(self, name):\n",
    "       self.name = name\n",
    "\n",
    "    def say_name(self):\n",
    "        print(f'Mi nombre es {self.name}')\n",
    "       \n",
    "    def eat(self):\n",
    "        print(f'Yummy Yummy!, estoy comiendo')\n",
    "\n",
    "class Cat(Animal): # Clase hija\n",
    "    def meow(self):\n",
    "        print('Soy un gato y hago meow!')\n",
    "\n",
    "class Dog(Animal): # Clase hija\n",
    "    def bark(self):\n",
    "        print('Soy un perro y hago gua gua!')"
   ]
  },
  {
   "cell_type": "code",
   "execution_count": 10,
   "metadata": {},
   "outputs": [
    {
     "name": "stdout",
     "output_type": "stream",
     "text": [
      "Mi nombre es Solo Vino\n",
      "Soy un perro y hago gua gua!\n",
      "Yummy Yummy!, estoy comiendo\n",
      "Mi nombre es Felix\n",
      "Soy un gato y hago meow!\n",
      "Yummy Yummy!, estoy comiendo\n"
     ]
    }
   ],
   "source": [
    "Solo_Vino = Dog(\"Solo Vino\")\n",
    "Solo_Vino.say_name()\n",
    "Solo_Vino.bark()\n",
    "Solo_Vino.eat()\n",
    "\n",
    "Felix = Cat(\"Felix\")\n",
    "Felix.say_name()\n",
    "Felix.meow()\n",
    "Felix.eat()"
   ]
  },
  {
   "cell_type": "code",
   "execution_count": null,
   "metadata": {},
   "outputs": [],
   "source": []
  }
 ],
 "metadata": {
  "kernelspec": {
   "display_name": "Python 3",
   "language": "python",
   "name": "python3"
  },
  "language_info": {
   "codemirror_mode": {
    "name": "ipython",
    "version": 3
   },
   "file_extension": ".py",
   "mimetype": "text/x-python",
   "name": "python",
   "nbconvert_exporter": "python",
   "pygments_lexer": "ipython3",
   "version": "3.12.5"
  }
 },
 "nbformat": 4,
 "nbformat_minor": 2
}
