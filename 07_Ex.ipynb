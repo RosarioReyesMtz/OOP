{
 "cells": [
  {
   "cell_type": "code",
   "execution_count": 14,
   "metadata": {},
   "outputs": [],
   "source": [
    "class Person:\n",
    "    def __init__(self, name, firsf_surname, second_last_name):\n",
    "        self.name = name\n",
    "        self.firsf_surname = firsf_surname\n",
    "        self.second_last_name = second_last_name.capitalize()\n",
    "\n",
    "    #def say_full_name(self):\n",
    "    #    print(f'{self.name.capitalize()} {self.firsf_surname.capitalize()} {self.second_last_name.capitalize()}')   \n",
    "\n",
    "    def __str__(self):\n",
    "        return f'{self.name.capitalize()} {self.firsf_surname.capitalize()} {self.second_last_name.capitalize()}' \n"
   ]
  },
  {
   "cell_type": "code",
   "execution_count": 16,
   "metadata": {},
   "outputs": [
    {
     "name": "stdout",
     "output_type": "stream",
     "text": [
      "<__main__.Person object at 0x10990b620>\n"
     ]
    }
   ],
   "source": [
    "person = Person(\"rOsario\", \"REYES\", \"martineZ\")\n",
    "#person.say_full_name()\n",
    "print(person)"
   ]
  },
  {
   "cell_type": "code",
   "execution_count": 30,
   "metadata": {},
   "outputs": [],
   "source": [
    "import math \n",
    "class Point2D:\n",
    "    def __init__(self, x,y):\n",
    "        self.x = x\n",
    "        self.y = y\n",
    "\n",
    "    def calcula_distancia(self, other):\n",
    "        d = math.sqrt(((self.x - other.x)** 2) + ((self.y - other.y)** 2))\n",
    "        print(d)\n"
   ]
  },
  {
   "cell_type": "code",
   "execution_count": 28,
   "metadata": {},
   "outputs": [
    {
     "name": "stdout",
     "output_type": "stream",
     "text": [
      "7.0\n",
      "None\n"
     ]
    }
   ],
   "source": [
    "punto1 = Point2D(3,4)\n",
    "punto2 = Point2D(9,5)\n",
    "print(punto1.calcula_distancia(punto2))"
   ]
  },
  {
   "cell_type": "code",
   "execution_count": 39,
   "metadata": {},
   "outputs": [],
   "source": [
    "class Time: \n",
    "    def __init__(self, h, m ,s):\n",
    "        self.h = h\n",
    "        self.m = m\n",
    "        self.s = s\n",
    "\n",
    "    def total_segundos(self):\n",
    "        print(self.h * 3600 + self.m * 60 + self.s)\n",
    "\n",
    "    def __str__(self):\n",
    "        return f'{self.h}:{self.m}:{self.s}'"
   ]
  },
  {
   "cell_type": "code",
   "execution_count": 40,
   "metadata": {},
   "outputs": [
    {
     "name": "stdout",
     "output_type": "stream",
     "text": [
      "7803\n",
      "2:10:3\n"
     ]
    }
   ],
   "source": [
    "tiempo = Time(2,10,3)\n",
    "tiempo.total_segundos()\n",
    "print(tiempo)"
   ]
  },
  {
   "cell_type": "code",
   "execution_count": null,
   "metadata": {},
   "outputs": [],
   "source": []
  },
  {
   "cell_type": "code",
   "execution_count": 46,
   "metadata": {},
   "outputs": [],
   "source": [
    "class Time: \n",
    "    def __init__(self, h, m ,s):\n",
    "        self.h = h\n",
    "        self.m = m\n",
    "        self.s = s\n",
    "        \n",
    "    def __str__(self):\n",
    "        print(self.h * 3600 + self.m * 60 + self.s)\n",
    "        return f'{self.h}:{self.m}:{self.s}'"
   ]
  },
  {
   "cell_type": "code",
   "execution_count": 48,
   "metadata": {},
   "outputs": [
    {
     "name": "stdout",
     "output_type": "stream",
     "text": [
      "32707\n",
      "9:5:7\n"
     ]
    }
   ],
   "source": [
    "tiempo = Time(9,5,7)\n",
    "print(tiempo)"
   ]
  },
  {
   "cell_type": "code",
   "execution_count": null,
   "metadata": {},
   "outputs": [],
   "source": []
  }
 ],
 "metadata": {
  "kernelspec": {
   "display_name": "Python 3",
   "language": "python",
   "name": "python3"
  },
  "language_info": {
   "codemirror_mode": {
    "name": "ipython",
    "version": 3
   },
   "file_extension": ".py",
   "mimetype": "text/x-python",
   "name": "python",
   "nbconvert_exporter": "python",
   "pygments_lexer": "ipython3",
   "version": "3.12.5"
  }
 },
 "nbformat": 4,
 "nbformat_minor": 2
}
